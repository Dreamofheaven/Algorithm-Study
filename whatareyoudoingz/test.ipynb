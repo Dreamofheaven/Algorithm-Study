{
 "cells": [
  {
   "cell_type": "code",
   "execution_count": null,
   "metadata": {},
   "outputs": [],
   "source": [
    "6\n",
    "12\n",
    "28\n",
    "-1"
   ]
  },
  {
   "cell_type": "code",
   "execution_count": 26,
   "metadata": {},
   "outputs": [
    {
     "name": "stdout",
     "output_type": "stream",
     "text": [
      "6 = 1 + 2 + 3\n",
      "12 is not perfect.\n",
      "12 is not perfect.\n",
      "28 = 1 + 2 + 4 + 7 + 14\n"
     ]
    }
   ],
   "source": [
    "while True:\n",
    "    n=int(input())\n",
    "    if n==-1:\n",
    "        break\n",
    "    \n",
    "    result=[]\n",
    "    for i in range(1,n+1):\n",
    "        if n%i==0 and n//i not in result:\n",
    "            result.append(n//i)\n",
    "\n",
    "    ans=f\"{n} = 1\"\n",
    "    score=1\n",
    "    for x in reversed(result[1:-1]):\n",
    "        ans+=f\" + {x}\"\n",
    "        score+=x\n",
    "\n",
    "    print(ans if score==n else f\"{n} is NOT perfect.\" )"
   ]
  },
  {
   "cell_type": "code",
   "execution_count": null,
   "metadata": {},
   "outputs": [],
   "source": [
    "6 = 1 + 2 + 3\n",
    "12 is NOT perfect.\n",
    "28 = 1 + 2 + 4 + 7 + 14"
   ]
  }
 ],
 "metadata": {
  "kernelspec": {
   "display_name": "Python 3",
   "language": "python",
   "name": "python3"
  },
  "language_info": {
   "codemirror_mode": {
    "name": "ipython",
    "version": 3
   },
   "file_extension": ".py",
   "mimetype": "text/x-python",
   "name": "python",
   "nbconvert_exporter": "python",
   "pygments_lexer": "ipython3",
   "version": "3.9.6"
  },
  "orig_nbformat": 4
 },
 "nbformat": 4,
 "nbformat_minor": 2
}
