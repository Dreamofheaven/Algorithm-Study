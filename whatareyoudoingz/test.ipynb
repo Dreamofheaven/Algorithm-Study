{
 "cells": [
  {
   "cell_type": "code",
   "execution_count": 19,
   "metadata": {},
   "outputs": [
    {
     "name": "stdout",
     "output_type": "stream",
     "text": [
      "[25, 5, 1]\n",
      "0\n"
     ]
    }
   ],
   "source": [
    "n,k=map(int,input().split())\n",
    "result=[]\n",
    "for i in range(1,n+1):\n",
    "    if n%i==0 and n//i not in result:\n",
    "        result.append(n//i)\n",
    "print(0 if len(result)<k else result[-k])"
   ]
  },
  {
   "cell_type": "code",
   "execution_count": null,
   "metadata": {},
   "outputs": [],
   "source": []
  }
 ],
 "metadata": {
  "kernelspec": {
   "display_name": "Python 3",
   "language": "python",
   "name": "python3"
  },
  "language_info": {
   "codemirror_mode": {
    "name": "ipython",
    "version": 3
   },
   "file_extension": ".py",
   "mimetype": "text/x-python",
   "name": "python",
   "nbconvert_exporter": "python",
   "pygments_lexer": "ipython3",
   "version": "3.9.6"
  },
  "orig_nbformat": 4
 },
 "nbformat": 4,
 "nbformat_minor": 2
}
